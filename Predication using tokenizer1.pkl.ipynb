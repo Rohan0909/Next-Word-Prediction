{
 "cells": [
  {
   "cell_type": "code",
   "execution_count": 1,
   "id": "f6511e09",
   "metadata": {},
   "outputs": [],
   "source": [
    "from tensorflow.keras.models import load_model\n",
    "import pickle\n",
    "import numpy as np"
   ]
  },
  {
   "cell_type": "code",
   "execution_count": 2,
   "id": "9b4beede",
   "metadata": {},
   "outputs": [],
   "source": [
    "model = load_model('next_word.h5')"
   ]
  },
  {
   "cell_type": "code",
   "execution_count": 3,
   "id": "ddf8310f",
   "metadata": {},
   "outputs": [],
   "source": [
    "tokenizer = pickle.load(open('tokenizer1.pkl','rb'))"
   ]
  },
  {
   "cell_type": "code",
   "execution_count": 4,
   "id": "abd72a93",
   "metadata": {},
   "outputs": [],
   "source": [
    "def next_word_pred(text,model,tokenizer):\n",
    "    sequence_data = tokenizer.texts_to_sequences([text])\n",
    "    sequence_data = np.array(sequence_data)\n",
    "    next_w_pred = np.argmax(model.predict(sequence_data))\n",
    "    \n",
    "    pre_word = ''\n",
    "\n",
    "    for key,value in tokenizer.word_index.items():\n",
    "        if value == next_w_pred:\n",
    "            pre_word = key \n",
    "            break\n",
    "    print(pre_word)\n",
    "    return pre_word\n",
    "    "
   ]
  },
  {
   "cell_type": "code",
   "execution_count": 8,
   "id": "19794a12",
   "metadata": {},
   "outputs": [
    {
     "name": "stdout",
     "output_type": "stream",
     "text": [
      "Enter your line: Please read the\n",
      "['Please', 'read', 'the']\n",
      "1/1 [==============================] - 0s 52ms/step\n",
      "karma\n",
      "Enter your line: Hard to believe that such optimism is\n",
      "['such', 'optimism', 'is']\n",
      "1/1 [==============================] - 0s 65ms/step\n",
      "dharampal\n",
      "Enter your line: was quite a\n",
      "['was', 'quite', 'a']\n",
      "1/1 [==============================] - 0s 56ms/step\n",
      "binge\n",
      "Enter your line: your twitter feed\n",
      "['your', 'twitter', 'feed']\n",
      "1/1 [==============================] - 0s 54ms/step\n",
      "friendly\n",
      "Enter your line: your twitter feed is\n",
      "['twitter', 'feed', 'is']\n",
      "1/1 [==============================] - 0s 52ms/step\n",
      "absorb\n",
      "Enter your line: Cummins is subjecting Pujara to a\n",
      "['Pujara', 'to', 'a']\n",
      "1/1 [==============================] - 0s 53ms/step\n",
      "my\n",
      "Enter your line: best fast bowler\n",
      "['best', 'fast', 'bowler']\n",
      "1/1 [==============================] - 0s 52ms/step\n",
      "esports\n",
      "Enter your line: virat kohali is\n",
      "['virat', 'kohali', 'is']\n",
      "1/1 [==============================] - 0s 49ms/step\n",
      "quite\n",
      "Enter your line: good series win for Team\n",
      "['win', 'for', 'Team']\n",
      "1/1 [==============================] - 0s 52ms/step\n",
      "wide\n",
      "Enter your line: 0\n",
      "Ending The Program.....\n"
     ]
    }
   ],
   "source": [
    "while(True):\n",
    "\n",
    "    text = input(\"Enter your line: \")\n",
    "    \n",
    "    if text == '0':\n",
    "        print(\"Ending The Program.....\")\n",
    "        break\n",
    "    \n",
    "    else:\n",
    "        try:\n",
    "            text = text.split(' ')\n",
    "            text = text[-3:]\n",
    "            print(text)\n",
    "        \n",
    "\n",
    "            next_word_pred(text,model,tokenizer)\n",
    "            \n",
    "        except:\n",
    "            continue"
   ]
  },
  {
   "cell_type": "code",
   "execution_count": null,
   "id": "ed7dd622",
   "metadata": {},
   "outputs": [],
   "source": []
  }
 ],
 "metadata": {
  "kernelspec": {
   "display_name": "Python [conda env:dmsl19_ten]",
   "language": "python",
   "name": "conda-env-dmsl19_ten-py"
  },
  "language_info": {
   "codemirror_mode": {
    "name": "ipython",
    "version": 3
   },
   "file_extension": ".py",
   "mimetype": "text/x-python",
   "name": "python",
   "nbconvert_exporter": "python",
   "pygments_lexer": "ipython3",
   "version": "3.9.12"
  }
 },
 "nbformat": 4,
 "nbformat_minor": 5
}
